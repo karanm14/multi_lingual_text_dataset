{
 "cells": [
  {
   "cell_type": "code",
   "execution_count": 99,
   "metadata": {},
   "outputs": [],
   "source": [
    "import numpy as np\n",
    "import cv2\n",
    "import os"
   ]
  },
  {
   "cell_type": "code",
   "execution_count": 112,
   "metadata": {},
   "outputs": [
    {
     "name": "stdout",
     "output_type": "stream",
     "text": [
      "B00001.jpg\n",
      "[[663, 276], [665, 299], [756, 293], [748, 270], [663, 277]]\n",
      "[[504, 261], [505, 289], [600, 300], [600, 274], [504, 258], [505, 266]]\n",
      "[[288, 224], [284, 259], [385, 278], [389, 241], [288, 226]]\n",
      "[[654, 249], [656, 271], [764, 267], [758, 244], [654, 251]]\n",
      "[[466, 226], [467, 250], [610, 274], [608, 248], [465, 221], [465, 228]]\n",
      "[[266, 181], [288, 190], [335, 201], [347, 199], [356, 207], [386, 214], [403, 209], [411, 214], [405, 244], [273, 215], [258, 209]]\n",
      "B00003.jpg\n",
      "[[191, 197], [192, 226], [346, 225], [343, 196], [191, 198]]\n",
      "[[199, 157], [199, 190], [340, 191], [339, 158], [200, 156]]\n",
      "[[200, 115], [200, 147], [341, 149], [339, 114]]\n",
      "B00006.jpg\n",
      "[[532, 342], [528, 394], [900, 404], [898, 357], [532, 345]]\n",
      "[[556, 287], [553, 342], [633, 351], [923, 358], [919, 288], [555, 287]]\n",
      "[[541, 213], [538, 281], [919, 294], [918, 217]]\n",
      "B00007.jpg\n",
      "[[400, 466], [402, 559], [915, 590], [899, 469], [402, 470]]\n",
      "[[85, 469], [88, 551], [352, 562], [341, 469], [84, 474]]\n",
      "[[472, 310], [479, 426], [822, 421], [810, 289], [474, 311]]\n",
      "[[151, 353], [155, 431], [407, 431], [409, 332], [150, 356]]\n",
      "[[450, 169], [457, 291], [881, 279], [864, 90], [450, 168]]\n",
      "[[84, 226], [87, 326], [390, 296], [385, 179]]\n",
      "B00005.jpg\n",
      "[[428, 356], [427, 418], [693, 432], [691, 378], [428, 357]]\n",
      "[[429, 261], [430, 336], [710, 368], [721, 369], [716, 295], [430, 264]]\n",
      "[[429, 158], [431, 245], [702, 295], [693, 214]]\n"
     ]
    }
   ],
   "source": [
    "listing = os.listdir(\"XML_files/\")\n",
    "for temp1 in listing:\n",
    "    if temp1.endswith('.jpg'):\n",
    "        print(temp1)\n",
    "        image = cv2.imread('XML_files/'+temp1)\n",
    "        f = open('XML_files/'+temp1[0:-4]+'.txt')\n",
    "        x = f.read()\n",
    "        y=x\n",
    "        y=y.strip()\n",
    "        y=y.split('\\n')\n",
    "        a=[]\n",
    "        for i in range(0,len(y),2):\n",
    "            a.append(y[i])\n",
    "        for i in range(0,len(a)):\n",
    "            b=a[i].split(' ')\n",
    "            b.pop(len(b)-1)\n",
    "            c=[]\n",
    "            for k, j in zip(range(0,len(b),2), range(1,len(b),2)):\n",
    "                #print(len(b)-1,k,j)\n",
    "                c.append([int(b[k]),int(b[j])])\n",
    "            pts = np.array(c,np.int64)\n",
    "            pts = pts.reshape((-1,1,2))\n",
    "            shape= cv2.polylines(image,[pts],True,(0,255,0))\n",
    "            cv2.imwrite('XML_files/'+temp1,shape)\n",
    "            #print(c)    "
   ]
  }
 ],
 "metadata": {
  "kernelspec": {
   "display_name": "Python 3",
   "language": "python",
   "name": "python3"
  },
  "language_info": {
   "codemirror_mode": {
    "name": "ipython",
    "version": 3
   },
   "file_extension": ".py",
   "mimetype": "text/x-python",
   "name": "python",
   "nbconvert_exporter": "python",
   "pygments_lexer": "ipython3",
   "version": "3.6.6"
  }
 },
 "nbformat": 4,
 "nbformat_minor": 2
}
