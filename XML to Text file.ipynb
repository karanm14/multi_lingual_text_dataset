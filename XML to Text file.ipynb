{
 "cells": [
  {
   "cell_type": "code",
   "execution_count": 111,
   "metadata": {},
   "outputs": [],
   "source": [
    "import os\n",
    "import xml\n",
    "import xml.etree.ElementTree as ET"
   ]
  },
  {
   "cell_type": "code",
   "execution_count": 112,
   "metadata": {},
   "outputs": [],
   "source": [
    "listing = os.listdir(\"Desktop/XML_files/\")"
   ]
  },
  {
   "cell_type": "code",
   "execution_count": 117,
   "metadata": {},
   "outputs": [],
   "source": [
    "for i in listing:\n",
    "    if i.endswith('.xml'):\n",
    "        tree = ET.parse('Desktop/XML_files/'+str(i))\n",
    "        root = tree.getroot()\n",
    "        a =[]\n",
    "        dictlist=[]\n",
    "        for c1 in root.iter('object'):\n",
    "            for c2 in c1.iter('polygon'):\n",
    "                for c3 in c2.iter():\n",
    "                    dictlist.append((c3.tag,c3.text))\n",
    "        k=1\n",
    "        f = open('Desktop/XML_files/'+str(i[0:-3])+'txt','w')\n",
    "        for j in dictlist:\n",
    "            if j[0][0] == 'p':\n",
    "                f.write('\\n\\n')\n",
    "                f.write(str(k)+' ')\n",
    "                k=k+1\n",
    "            else:\n",
    "                f.write(j[1]+' ')\n",
    "        f.close()"
   ]
  },
  {
   "cell_type": "code",
   "execution_count": null,
   "metadata": {},
   "outputs": [],
   "source": []
  }
 ],
 "metadata": {
  "kernelspec": {
   "display_name": "Python 3",
   "language": "python",
   "name": "python3"
  },
  "language_info": {
   "codemirror_mode": {
    "name": "ipython",
    "version": 3
   },
   "file_extension": ".py",
   "mimetype": "text/x-python",
   "name": "python",
   "nbconvert_exporter": "python",
   "pygments_lexer": "ipython3",
   "version": "3.6.4"
  }
 },
 "nbformat": 4,
 "nbformat_minor": 2
}
